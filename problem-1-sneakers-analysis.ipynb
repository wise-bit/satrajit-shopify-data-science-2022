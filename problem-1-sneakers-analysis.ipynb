{
 "cells": [
  {
   "cell_type": "markdown",
   "id": "ba7af3d6",
   "metadata": {},
   "source": [
    "# Shopify Data Science Intern Challenge - Satrajit Chatterjee\n",
    "\n",
    "## Question 1\n",
    "\n",
    "### Provided data: \n",
    "\n",
    "- Number of sneaker shops: **100**\n",
    "- Initial average order value (AOV): **$3145.13**"
   ]
  },
  {
   "cell_type": "code",
   "execution_count": 1,
   "id": "cbb26d24",
   "metadata": {},
   "outputs": [],
   "source": [
    "import pandas as pd\n",
    "import matplotlib.pyplot as plt"
   ]
  },
  {
   "cell_type": "code",
   "execution_count": 2,
   "id": "f7b8df2a",
   "metadata": {},
   "outputs": [],
   "source": [
    "data = pd.read_csv('data/2019 Winter Data Science Intern Challenge Data Set.csv')"
   ]
  },
  {
   "cell_type": "markdown",
   "id": "9d973891",
   "metadata": {},
   "source": [
    "## Step 1: Analyzing the Structure of the Provided Data\n",
    "\n",
    "This allows us to get an idea of which specific attributes to focus on when analyzing the data itself. "
   ]
  },
  {
   "cell_type": "code",
   "execution_count": 3,
   "id": "e3be595d",
   "metadata": {},
   "outputs": [
    {
     "data": {
      "text/html": [
       "<div>\n",
       "<style scoped>\n",
       "    .dataframe tbody tr th:only-of-type {\n",
       "        vertical-align: middle;\n",
       "    }\n",
       "\n",
       "    .dataframe tbody tr th {\n",
       "        vertical-align: top;\n",
       "    }\n",
       "\n",
       "    .dataframe thead th {\n",
       "        text-align: right;\n",
       "    }\n",
       "</style>\n",
       "<table border=\"1\" class=\"dataframe\">\n",
       "  <thead>\n",
       "    <tr style=\"text-align: right;\">\n",
       "      <th></th>\n",
       "      <th>order_id</th>\n",
       "      <th>shop_id</th>\n",
       "      <th>user_id</th>\n",
       "      <th>order_amount</th>\n",
       "      <th>total_items</th>\n",
       "      <th>payment_method</th>\n",
       "      <th>created_at</th>\n",
       "    </tr>\n",
       "  </thead>\n",
       "  <tbody>\n",
       "    <tr>\n",
       "      <th>0</th>\n",
       "      <td>1</td>\n",
       "      <td>53</td>\n",
       "      <td>746</td>\n",
       "      <td>224</td>\n",
       "      <td>2</td>\n",
       "      <td>cash</td>\n",
       "      <td>2017-03-13 12:36:56</td>\n",
       "    </tr>\n",
       "    <tr>\n",
       "      <th>1</th>\n",
       "      <td>2</td>\n",
       "      <td>92</td>\n",
       "      <td>925</td>\n",
       "      <td>90</td>\n",
       "      <td>1</td>\n",
       "      <td>cash</td>\n",
       "      <td>2017-03-03 17:38:52</td>\n",
       "    </tr>\n",
       "    <tr>\n",
       "      <th>2</th>\n",
       "      <td>3</td>\n",
       "      <td>44</td>\n",
       "      <td>861</td>\n",
       "      <td>144</td>\n",
       "      <td>1</td>\n",
       "      <td>cash</td>\n",
       "      <td>2017-03-14 4:23:56</td>\n",
       "    </tr>\n",
       "    <tr>\n",
       "      <th>3</th>\n",
       "      <td>4</td>\n",
       "      <td>18</td>\n",
       "      <td>935</td>\n",
       "      <td>156</td>\n",
       "      <td>1</td>\n",
       "      <td>credit_card</td>\n",
       "      <td>2017-03-26 12:43:37</td>\n",
       "    </tr>\n",
       "    <tr>\n",
       "      <th>4</th>\n",
       "      <td>5</td>\n",
       "      <td>18</td>\n",
       "      <td>883</td>\n",
       "      <td>156</td>\n",
       "      <td>1</td>\n",
       "      <td>credit_card</td>\n",
       "      <td>2017-03-01 4:35:11</td>\n",
       "    </tr>\n",
       "  </tbody>\n",
       "</table>\n",
       "</div>"
      ],
      "text/plain": [
       "   order_id  shop_id  user_id  order_amount  total_items payment_method  \\\n",
       "0         1       53      746           224            2           cash   \n",
       "1         2       92      925            90            1           cash   \n",
       "2         3       44      861           144            1           cash   \n",
       "3         4       18      935           156            1    credit_card   \n",
       "4         5       18      883           156            1    credit_card   \n",
       "\n",
       "            created_at  \n",
       "0  2017-03-13 12:36:56  \n",
       "1  2017-03-03 17:38:52  \n",
       "2   2017-03-14 4:23:56  \n",
       "3  2017-03-26 12:43:37  \n",
       "4   2017-03-01 4:35:11  "
      ]
     },
     "execution_count": 3,
     "metadata": {},
     "output_type": "execute_result"
    }
   ],
   "source": [
    "data.head()"
   ]
  },
  {
   "cell_type": "code",
   "execution_count": 4,
   "id": "f23eaa79",
   "metadata": {},
   "outputs": [
    {
     "data": {
      "text/plain": [
       "count      5000.000000\n",
       "mean       3145.128000\n",
       "std       41282.539349\n",
       "min          90.000000\n",
       "25%         163.000000\n",
       "50%         284.000000\n",
       "75%         390.000000\n",
       "max      704000.000000\n",
       "Name: order_amount, dtype: float64"
      ]
     },
     "execution_count": 4,
     "metadata": {},
     "output_type": "execute_result"
    }
   ],
   "source": [
    "data['order_amount'].describe()"
   ]
  },
  {
   "cell_type": "code",
   "execution_count": 5,
   "id": "e13bfaf1",
   "metadata": {},
   "outputs": [
    {
     "data": {
      "text/plain": [
       "count    5000.00000\n",
       "mean        8.78720\n",
       "std       116.32032\n",
       "min         1.00000\n",
       "25%         1.00000\n",
       "50%         2.00000\n",
       "75%         3.00000\n",
       "max      2000.00000\n",
       "Name: total_items, dtype: float64"
      ]
     },
     "execution_count": 5,
     "metadata": {},
     "output_type": "execute_result"
    }
   ],
   "source": [
    "data['total_items'].describe()"
   ]
  },
  {
   "cell_type": "markdown",
   "id": "c1e9019a",
   "metadata": {},
   "source": [
    "The data description confirms the fact that AOV is 3145.13. We can also note that the 75% percentile is at 390 but the max order amount is 704000. This means that there are obvious outliers that are causing the overall mean to be inflated. Similarly, there are orders where the total number of items are at 2000, which is much higher than the 75% percentile of 3 items. Visualizing this data gives us a better sense of the outlying entries in the dataset. "
   ]
  },
  {
   "cell_type": "markdown",
   "id": "d8ed9794",
   "metadata": {},
   "source": [
    "## Step 2: Visualizing Outliers"
   ]
  },
  {
   "cell_type": "code",
   "execution_count": 6,
   "id": "09efbc85",
   "metadata": {},
   "outputs": [
    {
     "data": {
      "text/plain": [
       "Text(0.5, 1.0, 'Order amount without outliers')"
      ]
     },
     "execution_count": 6,
     "metadata": {},
     "output_type": "execute_result"
    },
    {
     "data": {
      "image/png": "[encoded data removed]",
      "text/plain": [
       "<Figure size 432x288 with 2 Axes>"
      ]
     },
     "metadata": {
      "needs_background": "light"
     },
     "output_type": "display_data"
    }
   ],
   "source": [
    "plt.subplot(1, 2, 1)\n",
    "plt.boxplot(data['order_amount'], showfliers=True)\n",
    "plt.title(\"Order amount with outliers\")\n",
    "\n",
    "plt.subplot(1, 2, 2)\n",
    "plt.boxplot(data['order_amount'], showfliers=False)\n",
    "plt.title(\"Order amount without outliers\")"
   ]
  },
  {
   "cell_type": "code",
   "execution_count": 7,
   "id": "260f0f0e",
   "metadata": {},
   "outputs": [
    {
     "data": {
      "text/plain": [
       "(122.0, 640.0)"
      ]
     },
     "execution_count": 7,
     "metadata": {},
     "output_type": "execute_result"
    }
   ],
   "source": [
    "q_low = data['order_amount'].quantile(0.05)\n",
    "q_hi  = data['order_amount'].quantile(0.95)\n",
    "(q_low, q_hi)"
   ]
  },
  {
   "cell_type": "markdown",
   "id": "a191d227",
   "metadata": {},
   "source": [
    "The box plots for `order_amount` confirm that there are outliers, where the graph has a much smaller range with `showfliers` set to `False`. Calculating the highest and lowest 5% percentiles, we can filter down the data to a much more reasonable range, in this case, between 122 and 640. "
   ]
  },
  {
   "cell_type": "code",
   "execution_count": 8,
   "id": "7f416df8",
   "metadata": {},
   "outputs": [
    {
     "data": {
      "text/plain": [
       "Text(0.5, 1.0, 'Total items without outliers')"
      ]
     },
     "execution_count": 8,
     "metadata": {},
     "output_type": "execute_result"
    },
    {
     "data": {
      "image/png": "[encoded data removed]",
      "text/plain": [
       "<Figure size 432x288 with 2 Axes>"
      ]
     },
     "metadata": {
      "needs_background": "light"
     },
     "output_type": "display_data"
    }
   ],
   "source": [
    "plt.subplot(1, 2, 1)\n",
    "plt.boxplot(data['total_items'], showfliers=True)\n",
    "plt.title(\"Total items with outliers\")\n",
    "\n",
    "plt.subplot(1, 2, 2)\n",
    "plt.boxplot(data['total_items'], showfliers=False)\n",
    "plt.title(\"Total items without outliers\")"
   ]
  },
  {
   "cell_type": "code",
   "execution_count": 9,
   "id": "b9f5f557",
   "metadata": {},
   "outputs": [
    {
     "data": {
      "text/plain": [
       "(1.0, 4.0)"
      ]
     },
     "execution_count": 9,
     "metadata": {},
     "output_type": "execute_result"
    }
   ],
   "source": [
    "q_low = data['total_items'].quantile(0.05)\n",
    "q_hi  = data['total_items'].quantile(0.95)\n",
    "(q_low, q_hi)"
   ]
  },
  {
   "cell_type": "markdown",
   "id": "2ff8ddd9",
   "metadata": {},
   "source": [
    "The box plots for `total_items` confirm that there are outliers, where the graph has a much smaller range with `showfliers` set to `False`. Calculating the highest and lowest 5% percentiles, we can filter down the data to a much more reasonable range, in this case, between 1 and 4. "
   ]
  },
  {
   "cell_type": "markdown",
   "id": "b04d408d",
   "metadata": {},
   "source": [
    "## Step 3: Tracking a New Dependent Variable - IOV\n",
    "\n",
    "Individual Order Value, or IOV, is a new attribute introduced to the data, which represents the order amount over the total number of items that are part of an order. "
   ]
  },
  {
   "cell_type": "code",
   "execution_count": 10,
   "id": "f442d074",
   "metadata": {},
   "outputs": [],
   "source": [
    "data['IOV'] = data.apply(lambda order: order.order_amount / order.total_items, axis=1)"
   ]
  },
  {
   "cell_type": "code",
   "execution_count": 11,
   "id": "e4136b03",
   "metadata": {},
   "outputs": [
    {
     "data": {
      "text/plain": [
       "Text(0.5, 1.0, 'IOV without outliers')"
      ]
     },
     "execution_count": 11,
     "metadata": {},
     "output_type": "execute_result"
    },
    {
     "data": {
      "image/png": "[encoded data removed]",
      "text/plain": [
       "<Figure size 432x288 with 2 Axes>"
      ]
     },
     "metadata": {
      "needs_background": "light"
     },
     "output_type": "display_data"
    }
   ],
   "source": [
    "plt.subplot(1, 2, 1)\n",
    "plt.boxplot(data['IOV'], showfliers=True)\n",
    "plt.title(\"IOV with outliers\")\n",
    "\n",
    "plt.subplot(1, 2, 2)\n",
    "plt.boxplot(data['IOV'], showfliers=False)\n",
    "plt.title(\"IOV without outliers\")"
   ]
  },
  {
   "cell_type": "code",
   "execution_count": 12,
   "id": "f9335426",
   "metadata": {},
   "outputs": [
    {
     "data": {
      "text/plain": [
       "(112.0, 195.0)"
      ]
     },
     "execution_count": 12,
     "metadata": {},
     "output_type": "execute_result"
    }
   ],
   "source": [
    "q_low = data['IOV'].quantile(0.05)\n",
    "q_hi  = data['IOV'].quantile(0.95)\n",
    "(q_low, q_hi)"
   ]
  },
  {
   "cell_type": "markdown",
   "id": "2d439221",
   "metadata": {},
   "source": [
    "The middle 90% quantile of IOV ranges bewteen 112 and 195. This contributes to the factors when creating a reliable data filter. "
   ]
  },
  {
   "cell_type": "markdown",
   "id": "fbf07bb0",
   "metadata": {},
   "source": [
    "## Step 4: Data Filtering\n",
    "\n",
    "Based on the outliers detection, it is clear that there are two major sets at play here. While there are some general outliers that must be filtered out for accurate calculations, there is some data with order amounts over 200000 that are large enough in number to be its own category, possibly for large businesses. The other general data falls in a second category for regular businesses. "
   ]
  },
  {
   "cell_type": "code",
   "execution_count": 13,
   "id": "51aee0e3",
   "metadata": {
    "scrolled": true
   },
   "outputs": [],
   "source": [
    "data_category_1 = data[(data['order_amount'] > 200000)]"
   ]
  },
  {
   "cell_type": "code",
   "execution_count": 14,
   "id": "cd20695d",
   "metadata": {},
   "outputs": [
    {
     "data": {
      "text/plain": [
       "'Filtered percentage of data category 1: 0.34%'"
      ]
     },
     "execution_count": 14,
     "metadata": {},
     "output_type": "execute_result"
    }
   ],
   "source": [
    "\"Filtered percentage of data category 1: \" + str(round(len(data_category_1) / len(data) * 100, 2)) + \"%\""
   ]
  },
  {
   "cell_type": "code",
   "execution_count": 15,
   "id": "9be7c46b",
   "metadata": {
    "scrolled": true
   },
   "outputs": [],
   "source": [
    "data_category_2 = data[(data['IOV'] <= 195) & (data['IOV'] >= 112) & \n",
    "                           (data['order_amount'] <= 640) & (data['order_amount'] >= 122) & \n",
    "                           (data['total_items'] <= 4) & (data['total_items'] >= 1)]"
   ]
  },
  {
   "cell_type": "code",
   "execution_count": 16,
   "id": "ea7f606e",
   "metadata": {},
   "outputs": [
    {
     "data": {
      "text/plain": [
       "'Filtered percentage of data category 2: 85.42%'"
      ]
     },
     "execution_count": 16,
     "metadata": {},
     "output_type": "execute_result"
    }
   ],
   "source": [
    "\"Filtered percentage of data category 2: \" + str(round(len(data_category_2) / len(data) * 100, 2)) + \"%\""
   ]
  },
  {
   "cell_type": "markdown",
   "id": "8f307b4b",
   "metadata": {},
   "source": [
    "The current filtering process can be used to categorize the data into two main sections, the first one representing 0.34% of the orders, for large businesses, and the second one representing 85.42% of the orders, for regular businesses. "
   ]
  },
  {
   "cell_type": "markdown",
   "id": "f88d7ccf",
   "metadata": {},
   "source": [
    "## Step 5: Conclusive Data\n",
    "\n",
    "The description of the new data categories can now provide us with the correct AOVs."
   ]
  },
  {
   "cell_type": "code",
   "execution_count": 17,
   "id": "9c58e8a8",
   "metadata": {},
   "outputs": [
    {
     "data": {
      "text/plain": [
       "count        17.0\n",
       "mean     704000.0\n",
       "std           0.0\n",
       "min      704000.0\n",
       "25%      704000.0\n",
       "50%      704000.0\n",
       "75%      704000.0\n",
       "max      704000.0\n",
       "Name: order_amount, dtype: float64"
      ]
     },
     "execution_count": 17,
     "metadata": {},
     "output_type": "execute_result"
    }
   ],
   "source": [
    "data_category_1['order_amount'].describe()"
   ]
  },
  {
   "cell_type": "code",
   "execution_count": 18,
   "id": "e4864c0a",
   "metadata": {},
   "outputs": [
    {
     "data": {
      "text/plain": [
       "count    4271.000000\n",
       "mean      293.501288\n",
       "std       130.118069\n",
       "min       122.000000\n",
       "25%       164.000000\n",
       "50%       284.000000\n",
       "75%       374.000000\n",
       "max       640.000000\n",
       "Name: order_amount, dtype: float64"
      ]
     },
     "execution_count": 18,
     "metadata": {},
     "output_type": "execute_result"
    }
   ],
   "source": [
    "data_category_2['order_amount'].describe()"
   ]
  },
  {
   "cell_type": "code",
   "execution_count": 19,
   "id": "a90854f7",
   "metadata": {},
   "outputs": [
    {
     "data": {
      "text/plain": [
       "{'whiskers': [<matplotlib.lines.Line2D at 0x287a57af490>,\n",
       "  <matplotlib.lines.Line2D at 0x287a57af760>],\n",
       " 'caps': [<matplotlib.lines.Line2D at 0x287a57afa30>,\n",
       "  <matplotlib.lines.Line2D at 0x287a57afd00>],\n",
       " 'boxes': [<matplotlib.lines.Line2D at 0x287a57af1c0>],\n",
       " 'medians': [<matplotlib.lines.Line2D at 0x287a57affd0>],\n",
       " 'fliers': [<matplotlib.lines.Line2D at 0x287a57bc2e0>],\n",
       " 'means': []}"
      ]
     },
     "execution_count": 19,
     "metadata": {},
     "output_type": "execute_result"
    },
    {
     "data": {
      "image/png": "[encoded data removed]",
      "text/plain": [
       "<Figure size 432x288 with 1 Axes>"
      ]
     },
     "metadata": {
      "needs_background": "light"
     },
     "output_type": "display_data"
    }
   ],
   "source": [
    "plt.boxplot(data_category_1['order_amount'], showfliers=True)"
   ]
  },
  {
   "cell_type": "code",
   "execution_count": 20,
   "id": "927a2590",
   "metadata": {},
   "outputs": [
    {
     "data": {
      "text/plain": [
       "{'whiskers': [<matplotlib.lines.Line2D at 0x287a67ed040>,\n",
       "  <matplotlib.lines.Line2D at 0x287a67ed310>],\n",
       " 'caps': [<matplotlib.lines.Line2D at 0x287a67ed5e0>,\n",
       "  <matplotlib.lines.Line2D at 0x287a67ed8b0>],\n",
       " 'boxes': [<matplotlib.lines.Line2D at 0x287a67ddd30>],\n",
       " 'medians': [<matplotlib.lines.Line2D at 0x287a67edb80>],\n",
       " 'fliers': [<matplotlib.lines.Line2D at 0x287a67ede50>],\n",
       " 'means': []}"
      ]
     },
     "execution_count": 20,
     "metadata": {},
     "output_type": "execute_result"
    },
    {
     "data": {
      "image/png": "[encoded data removed]",
      "text/plain": [
       "<Figure size 432x288 with 1 Axes>"
      ]
     },
     "metadata": {
      "needs_background": "light"
     },
     "output_type": "display_data"
    }
   ],
   "source": [
    "plt.boxplot(data_category_2['order_amount'], showfliers=True)"
   ]
  },
  {
   "cell_type": "markdown",
   "id": "550cf4fd",
   "metadata": {},
   "source": [
    "For each of the descriptions, the **means** define the AOVs. The AOVs for each of the categories are:\n",
    "- *Regular businesses*: \\$293.50\n",
    "- *Large businesses*: \\$704000.00"
   ]
  },
  {
   "cell_type": "markdown",
   "id": "841cf05f",
   "metadata": {},
   "source": [
    "---"
   ]
  }
 ],
 "metadata": {
  "kernelspec": {
   "display_name": "Python 3 (ipykernel)",
   "language": "python",
   "name": "python3"
  },
  "language_info": {
   "codemirror_mode": {
    "name": "ipython",
    "version": 3
   },
   "file_extension": ".py",
   "mimetype": "text/x-python",
   "name": "python",
   "nbconvert_exporter": "python",
   "pygments_lexer": "ipython3",
   "version": "3.9.6"
  }
 },
 "nbformat": 4,
 "nbformat_minor": 5
}
