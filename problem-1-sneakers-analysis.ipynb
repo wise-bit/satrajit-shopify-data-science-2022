{
 "cells": [
  {
   "cell_type": "markdown",
   "id": "2ad806a2",
   "metadata": {},
   "source": [
    "# Shopify Data Science Intern Challenge\n",
    "\n",
    "## Question 1\n",
    "\n",
    "### Provided data: \n",
    "\n",
    "- Number of sneaker shops: **100**\n",
    "- Initial average order value (AOV): **$3145.13**"
   ]
  },
  {
   "cell_type": "code",
   "execution_count": 1,
   "id": "ca459765",
   "metadata": {},
   "outputs": [],
   "source": [
    "import pandas as pd\n",
    "import matplotlib.pyplot as plt"
   ]
  },
  {
   "cell_type": "code",
   "execution_count": 2,
   "id": "cb3f4a09",
   "metadata": {},
   "outputs": [],
   "source": [
    "data = pd.read_csv('data/2019 Winter Data Science Intern Challenge Data Set.csv')"
   ]
  },
  {
   "cell_type": "markdown",
   "id": "dfbffc9b",
   "metadata": {},
   "source": [
    "The first step is to"
   ]
  },
  {
   "cell_type": "code",
   "execution_count": 3,
   "id": "920c0947",
   "metadata": {},
   "outputs": [
    {
     "data": {
      "text/html": [
       "<div>\n",
       "<style scoped>\n",
       "    .dataframe tbody tr th:only-of-type {\n",
       "        vertical-align: middle;\n",
       "    }\n",
       "\n",
       "    .dataframe tbody tr th {\n",
       "        vertical-align: top;\n",
       "    }\n",
       "\n",
       "    .dataframe thead th {\n",
       "        text-align: right;\n",
       "    }\n",
       "</style>\n",
       "<table border=\"1\" class=\"dataframe\">\n",
       "  <thead>\n",
       "    <tr style=\"text-align: right;\">\n",
       "      <th></th>\n",
       "      <th>order_id</th>\n",
       "      <th>shop_id</th>\n",
       "      <th>user_id</th>\n",
       "      <th>order_amount</th>\n",
       "      <th>total_items</th>\n",
       "      <th>payment_method</th>\n",
       "      <th>created_at</th>\n",
       "    </tr>\n",
       "  </thead>\n",
       "  <tbody>\n",
       "    <tr>\n",
       "      <th>0</th>\n",
       "      <td>1</td>\n",
       "      <td>53</td>\n",
       "      <td>746</td>\n",
       "      <td>224</td>\n",
       "      <td>2</td>\n",
       "      <td>cash</td>\n",
       "      <td>2017-03-13 12:36:56</td>\n",
       "    </tr>\n",
       "    <tr>\n",
       "      <th>1</th>\n",
       "      <td>2</td>\n",
       "      <td>92</td>\n",
       "      <td>925</td>\n",
       "      <td>90</td>\n",
       "      <td>1</td>\n",
       "      <td>cash</td>\n",
       "      <td>2017-03-03 17:38:52</td>\n",
       "    </tr>\n",
       "    <tr>\n",
       "      <th>2</th>\n",
       "      <td>3</td>\n",
       "      <td>44</td>\n",
       "      <td>861</td>\n",
       "      <td>144</td>\n",
       "      <td>1</td>\n",
       "      <td>cash</td>\n",
       "      <td>2017-03-14 4:23:56</td>\n",
       "    </tr>\n",
       "    <tr>\n",
       "      <th>3</th>\n",
       "      <td>4</td>\n",
       "      <td>18</td>\n",
       "      <td>935</td>\n",
       "      <td>156</td>\n",
       "      <td>1</td>\n",
       "      <td>credit_card</td>\n",
       "      <td>2017-03-26 12:43:37</td>\n",
       "    </tr>\n",
       "    <tr>\n",
       "      <th>4</th>\n",
       "      <td>5</td>\n",
       "      <td>18</td>\n",
       "      <td>883</td>\n",
       "      <td>156</td>\n",
       "      <td>1</td>\n",
       "      <td>credit_card</td>\n",
       "      <td>2017-03-01 4:35:11</td>\n",
       "    </tr>\n",
       "  </tbody>\n",
       "</table>\n",
       "</div>"
      ],
      "text/plain": [
       "   order_id  shop_id  user_id  order_amount  total_items payment_method  \\\n",
       "0         1       53      746           224            2           cash   \n",
       "1         2       92      925            90            1           cash   \n",
       "2         3       44      861           144            1           cash   \n",
       "3         4       18      935           156            1    credit_card   \n",
       "4         5       18      883           156            1    credit_card   \n",
       "\n",
       "            created_at  \n",
       "0  2017-03-13 12:36:56  \n",
       "1  2017-03-03 17:38:52  \n",
       "2   2017-03-14 4:23:56  \n",
       "3  2017-03-26 12:43:37  \n",
       "4   2017-03-01 4:35:11  "
      ]
     },
     "execution_count": 3,
     "metadata": {},
     "output_type": "execute_result"
    }
   ],
   "source": [
    "data.head()"
   ]
  },
  {
   "cell_type": "code",
   "execution_count": 8,
   "id": "5db66837",
   "metadata": {},
   "outputs": [
    {
     "data": {
      "text/plain": [
       "count      5000.000000\n",
       "mean       3145.128000\n",
       "std       41282.539349\n",
       "min          90.000000\n",
       "25%         163.000000\n",
       "50%         284.000000\n",
       "75%         390.000000\n",
       "max      704000.000000\n",
       "Name: order_amount, dtype: float64"
      ]
     },
     "execution_count": 8,
     "metadata": {},
     "output_type": "execute_result"
    }
   ],
   "source": [
    "data['order_amount'].describe()"
   ]
  },
  {
   "cell_type": "code",
   "execution_count": 64,
   "id": "61f5981e",
   "metadata": {},
   "outputs": [
    {
     "data": {
      "text/plain": [
       "{'whiskers': [<matplotlib.lines.Line2D at 0x225c09cc730>,\n",
       "  <matplotlib.lines.Line2D at 0x225c09cca00>],\n",
       " 'caps': [<matplotlib.lines.Line2D at 0x225c09cccd0>,\n",
       "  <matplotlib.lines.Line2D at 0x225c09ccfa0>],\n",
       " 'boxes': [<matplotlib.lines.Line2D at 0x225c09cc460>],\n",
       " 'medians': [<matplotlib.lines.Line2D at 0x225c09db2b0>],\n",
       " 'fliers': [],\n",
       " 'means': []}"
      ]
     },
     "execution_count": 64,
     "metadata": {},
     "output_type": "execute_result"
    },
    {
     "data": {
      "image/png": "[encoded data removed]",
      "text/plain": [
       "<Figure size 432x288 with 2 Axes>"
      ]
     },
     "metadata": {
      "needs_background": "light"
     },
     "output_type": "display_data"
    }
   ],
   "source": [
    "plt.subplot(1, 2, 1)\n",
    "plt.boxplot(data['order_amount'], showfliers=True)\n",
    "\n",
    "plt.subplot(1, 2, 2)\n",
    "plt.boxplot(data['order_amount'], showfliers=False)"
   ]
  },
  {
   "cell_type": "code",
   "execution_count": 105,
   "id": "bf25a373",
   "metadata": {},
   "outputs": [
    {
     "data": {
      "text/plain": [
       "(122.0, 640.0)"
      ]
     },
     "execution_count": 105,
     "metadata": {},
     "output_type": "execute_result"
    }
   ],
   "source": [
    "q_low = data['order_amount'].quantile(0.05)\n",
    "q_hi  = data['order_amount'].quantile(0.95)\n",
    "(q_low, q_hi)"
   ]
  },
  {
   "cell_type": "code",
   "execution_count": 65,
   "id": "cc6ac7a9",
   "metadata": {},
   "outputs": [
    {
     "data": {
      "text/plain": [
       "{'whiskers': [<matplotlib.lines.Line2D at 0x225c0a8cfa0>,\n",
       "  <matplotlib.lines.Line2D at 0x225c0a9b2b0>],\n",
       " 'caps': [<matplotlib.lines.Line2D at 0x225c0a9b460>,\n",
       "  <matplotlib.lines.Line2D at 0x225c0a9b730>],\n",
       " 'boxes': [<matplotlib.lines.Line2D at 0x225c0a8ccd0>],\n",
       " 'medians': [<matplotlib.lines.Line2D at 0x225c0a9ba00>],\n",
       " 'fliers': [],\n",
       " 'means': []}"
      ]
     },
     "execution_count": 65,
     "metadata": {},
     "output_type": "execute_result"
    },
    {
     "data": {
      "image/png": "[encoded data removed]",
      "text/plain": [
       "<Figure size 432x288 with 2 Axes>"
      ]
     },
     "metadata": {
      "needs_background": "light"
     },
     "output_type": "display_data"
    }
   ],
   "source": [
    "plt.subplot(1, 2, 1)\n",
    "plt.boxplot(data['total_items'], showfliers=True)\n",
    "\n",
    "plt.subplot(1, 2, 2)\n",
    "plt.boxplot(data['total_items'], showfliers=False)"
   ]
  },
  {
   "cell_type": "code",
   "execution_count": 106,
   "id": "eaa8df7e",
   "metadata": {},
   "outputs": [
    {
     "data": {
      "text/plain": [
       "(1.0, 4.0)"
      ]
     },
     "execution_count": 106,
     "metadata": {},
     "output_type": "execute_result"
    }
   ],
   "source": [
    "q_low = data['total_items'].quantile(0.05)\n",
    "q_hi  = data['total_items'].quantile(0.95)\n",
    "(q_low, q_hi)"
   ]
  },
  {
   "cell_type": "markdown",
   "id": "bd543100",
   "metadata": {},
   "source": [
    "Individual Order Value (IOV)"
   ]
  },
  {
   "cell_type": "code",
   "execution_count": 22,
   "id": "2e113516",
   "metadata": {},
   "outputs": [],
   "source": [
    "data['IOV'] = data.apply(lambda order: order.order_amount / order.total_items, axis=1)"
   ]
  },
  {
   "cell_type": "code",
   "execution_count": 24,
   "id": "18daf616",
   "metadata": {},
   "outputs": [
    {
     "data": {
      "text/plain": [
       "{'whiskers': [<matplotlib.lines.Line2D at 0x225c087c250>,\n",
       "  <matplotlib.lines.Line2D at 0x225c087c430>],\n",
       " 'caps': [<matplotlib.lines.Line2D at 0x225c087c700>,\n",
       "  <matplotlib.lines.Line2D at 0x225c087c9d0>],\n",
       " 'boxes': [<matplotlib.lines.Line2D at 0x225c086ff40>],\n",
       " 'medians': [<matplotlib.lines.Line2D at 0x225c087cca0>],\n",
       " 'fliers': [],\n",
       " 'means': []}"
      ]
     },
     "execution_count": 24,
     "metadata": {},
     "output_type": "execute_result"
    },
    {
     "data": {
      "image/png": "[encoded data removed]",
      "text/plain": [
       "<Figure size 432x288 with 2 Axes>"
      ]
     },
     "metadata": {
      "needs_background": "light"
     },
     "output_type": "display_data"
    }
   ],
   "source": [
    "plt.subplot(1, 2, 1)\n",
    "plt.boxplot(data['IOV'], showfliers=True)\n",
    "\n",
    "plt.subplot(1, 2, 2)\n",
    "plt.boxplot(data['IOV'], showfliers=False)"
   ]
  },
  {
   "cell_type": "code",
   "execution_count": 107,
   "id": "c29a3a22",
   "metadata": {},
   "outputs": [
    {
     "data": {
      "text/plain": [
       "(112.0, 195.0)"
      ]
     },
     "execution_count": 107,
     "metadata": {},
     "output_type": "execute_result"
    }
   ],
   "source": [
    "q_low = data['IOV'].quantile(0.05)\n",
    "q_hi  = data['IOV'].quantile(0.95)\n",
    "(q_low, q_hi)"
   ]
  },
  {
   "cell_type": "markdown",
   "id": "21de12cb",
   "metadata": {},
   "source": []
  },
  {
   "cell_type": "code",
   "execution_count": 155,
   "id": "8d480349",
   "metadata": {
    "scrolled": true
   },
   "outputs": [],
   "source": [
    "data_category_1 = data[(data['order_amount'] > 200000) ]"
   ]
  },
  {
   "cell_type": "code",
   "execution_count": 156,
   "id": "5fcdddb8",
   "metadata": {
    "scrolled": true
   },
   "outputs": [],
   "source": [
    "data_category_2 = data[(data['IOV'] <= 195) & (data['IOV'] >= 112) & \n",
    "                           (data['order_amount'] <= 640) & (data['order_amount'] >= 122) & \n",
    "                           (data['total_items'] <= 4) & (data['total_items'] >= 1)]"
   ]
  },
  {
   "cell_type": "code",
   "execution_count": 157,
   "id": "6ac6f3b9",
   "metadata": {},
   "outputs": [
    {
     "data": {
      "text/plain": [
       "'85.42%'"
      ]
     },
     "execution_count": 157,
     "metadata": {},
     "output_type": "execute_result"
    }
   ],
   "source": [
    "filtered_percentage = str(round(len(data_category_2) / len(data) * 100, 3)) + \"%\"\n",
    "filtered_percentage"
   ]
  },
  {
   "cell_type": "code",
   "execution_count": 158,
   "id": "b6a086d6",
   "metadata": {},
   "outputs": [
    {
     "data": {
      "text/plain": [
       "count        17.0\n",
       "mean     704000.0\n",
       "std           0.0\n",
       "min      704000.0\n",
       "25%      704000.0\n",
       "50%      704000.0\n",
       "75%      704000.0\n",
       "max      704000.0\n",
       "Name: order_amount, dtype: float64"
      ]
     },
     "execution_count": 158,
     "metadata": {},
     "output_type": "execute_result"
    }
   ],
   "source": [
    "data_category_1['order_amount'].describe()"
   ]
  },
  {
   "cell_type": "code",
   "execution_count": 159,
   "id": "79478eb4",
   "metadata": {},
   "outputs": [
    {
     "data": {
      "text/plain": [
       "count    4271.000000\n",
       "mean      293.501288\n",
       "std       130.118069\n",
       "min       122.000000\n",
       "25%       164.000000\n",
       "50%       284.000000\n",
       "75%       374.000000\n",
       "max       640.000000\n",
       "Name: order_amount, dtype: float64"
      ]
     },
     "execution_count": 159,
     "metadata": {},
     "output_type": "execute_result"
    }
   ],
   "source": [
    "data_category_2['order_amount'].describe()"
   ]
  },
  {
   "cell_type": "code",
   "execution_count": 162,
   "id": "98260ee7",
   "metadata": {},
   "outputs": [
    {
     "data": {
      "text/plain": [
       "{'whiskers': [<matplotlib.lines.Line2D at 0x225c108a100>,\n",
       "  <matplotlib.lines.Line2D at 0x225c108a3d0>],\n",
       " 'caps': [<matplotlib.lines.Line2D at 0x225c108a6a0>,\n",
       "  <matplotlib.lines.Line2D at 0x225c108a970>],\n",
       " 'boxes': [<matplotlib.lines.Line2D at 0x225c1079df0>],\n",
       " 'medians': [<matplotlib.lines.Line2D at 0x225c108ac40>],\n",
       " 'fliers': [<matplotlib.lines.Line2D at 0x225c108af10>],\n",
       " 'means': []}"
      ]
     },
     "execution_count": 162,
     "metadata": {},
     "output_type": "execute_result"
    },
    {
     "data": {
      "image/png": "[encoded data removed]",
      "text/plain": [
       "<Figure size 432x288 with 1 Axes>"
      ]
     },
     "metadata": {
      "needs_background": "light"
     },
     "output_type": "display_data"
    }
   ],
   "source": [
    "plt.boxplot(data_category_1['order_amount'], showfliers=True)"
   ]
  },
  {
   "cell_type": "markdown",
   "id": "623c855c",
   "metadata": {},
   "source": [
    "asd"
   ]
  },
  {
   "cell_type": "code",
   "execution_count": 163,
   "id": "b9b61b26",
   "metadata": {},
   "outputs": [
    {
     "data": {
      "text/plain": [
       "{'whiskers': [<matplotlib.lines.Line2D at 0x225c10e5c70>,\n",
       "  <matplotlib.lines.Line2D at 0x225c10e5f40>],\n",
       " 'caps': [<matplotlib.lines.Line2D at 0x225c10f6250>,\n",
       "  <matplotlib.lines.Line2D at 0x225c10f6520>],\n",
       " 'boxes': [<matplotlib.lines.Line2D at 0x225c10e58e0>],\n",
       " 'medians': [<matplotlib.lines.Line2D at 0x225c10f67f0>],\n",
       " 'fliers': [<matplotlib.lines.Line2D at 0x225c10f6ac0>],\n",
       " 'means': []}"
      ]
     },
     "execution_count": 163,
     "metadata": {},
     "output_type": "execute_result"
    },
    {
     "data": {
      "image/png": "[encoded data removed]",
      "text/plain": [
       "<Figure size 432x288 with 1 Axes>"
      ]
     },
     "metadata": {
      "needs_background": "light"
     },
     "output_type": "display_data"
    }
   ],
   "source": [
    "plt.boxplot(data_category_2['order_amount'], showfliers=True)"
   ]
  },
  {
   "cell_type": "code",
   "execution_count": null,
   "id": "e395f23a",
   "metadata": {},
   "outputs": [],
   "source": []
  }
 ],
 "metadata": {
  "kernelspec": {
   "display_name": "Python 3 (ipykernel)",
   "language": "python",
   "name": "python3"
  },
  "language_info": {
   "codemirror_mode": {
    "name": "ipython",
    "version": 3
   },
   "file_extension": ".py",
   "mimetype": "text/x-python",
   "name": "python",
   "nbconvert_exporter": "python",
   "pygments_lexer": "ipython3",
   "version": "3.9.6"
  }
 },
 "nbformat": 4,
 "nbformat_minor": 5
}
